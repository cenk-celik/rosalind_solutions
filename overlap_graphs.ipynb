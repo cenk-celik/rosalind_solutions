{
 "cells": [
  {
   "cell_type": "markdown",
   "metadata": {},
   "source": [
    "# Overlap Graphs\n",
    "## Problem\n",
    "\n",
    "A graph whose nodes have all been labeled can be represented by an adjacency list, in which each row of the list contains the two node labels corresponding to a unique edge.\n",
    "\n",
    "A directed graph (or digraph) is a graph containing directed edges, each of which has an orientation. That is, a directed edge is represented by an arrow instead of a line segment; the starting and ending nodes of an edge form its tail and head, respectively. The directed edge with tail **v** and head **w** is represented by **(v,w)** (but not by **(w,v)**). A directed loop is a directed edge of the form **(v,v)**.\n",
    "\n",
    "For a collection of strings and a positive integer **k**, the overlap graph for the strings is a directed graph O_k in which each string is represented by a node, and string **s** is connected to string **t** with a directed edge when there is a length **k** suffix of **s** that matches a length **k** prefix of **t**, as long as **s ≠ t**; we demand **s ≠ t** to prevent directed loops in the overlap graph (although directed cycles may be present).\n",
    "\n",
    "> **Given:** A collection of DNA strings in FASTA format having total length at most 10 kbp.\n",
    "\n",
    "> **Return:** The adjacency list corresponding to O_3. You may return edges in any order."
   ]
  },
  {
   "cell_type": "code",
   "execution_count": null,
   "metadata": {},
   "outputs": [],
   "source": [
    "from Bio import SeqIO\n",
    "\n",
    "k = 3\n",
    "input_file = 'rosalind_grph.txt' #replace filename with yours\n",
    "\n",
    "with open(input_file) as f:\n",
    "    fasta_sequences = list(SeqIO.parse(f, 'fasta'))\n",
    "\n",
    "for fasta1 in fasta_sequences:\n",
    "    for fasta2 in fasta_sequences:\n",
    "        name1, sequence1 = fasta1.id, str(fasta1.seq)\n",
    "        name2, sequence2 = fasta2.id, str(fasta2.seq)\n",
    "        if sequence1 == sequence2:\n",
    "            continue\n",
    "        suffix = sequence1[-k:]\n",
    "        prefix = sequence2[:k]\n",
    "        if prefix == suffix:\n",
    "            print(name1, name2)"
   ]
  }
 ],
 "metadata": {
  "kernelspec": {
   "display_name": "Python 3.8.2 64-bit",
   "language": "python",
   "name": "python38264bit00df4fe6d4d64c87a822cc03eec6afc9"
  },
  "language_info": {
   "codemirror_mode": {
    "name": "ipython",
    "version": 3
   },
   "file_extension": ".py",
   "mimetype": "text/x-python",
   "name": "python",
   "nbconvert_exporter": "python",
   "pygments_lexer": "ipython3",
   "version": "3.8.2"
  }
 },
 "nbformat": 4,
 "nbformat_minor": 4
}
