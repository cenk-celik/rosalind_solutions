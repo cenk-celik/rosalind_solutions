{
 "cells": [
  {
   "cell_type": "markdown",
   "metadata": {},
   "source": [
    "# Open Reading Frames\n",
    "## Problem\n",
    "\n",
    "Either strand of a DNA double helix can serve as the coding strand for RNA transcription. Hence, a given DNA string implies six total reading frames, or ways in which the same region of DNA can be translated into amino acids: three reading frames result from reading the string itself, whereas three more result from reading its reverse complement.\n",
    "\n",
    "An open reading frame (ORF) is one which starts from the start codon and ends by stop codon, without any other stop codons in between. Thus, a candidate protein string is derived by translating an open reading frame into amino acids until a stop codon is reached.\n",
    "\n",
    "> **Given:** A DNA string **s** of length at most 1 kbp in FASTA format.\n",
    "\n",
    "> **Return:** Every distinct candidate protein string that can be translated from ORFs of **s.** Strings can be returned in any order."
   ]
  },
  {
   "cell_type": "code",
   "execution_count": 1,
   "metadata": {},
   "outputs": [],
   "source": [
    "dna_codon_table = {\n",
    "    \"TTT\":\"F\", \"CTT\":\"L\", \"ATT\":\"I\", \"GTT\":\"V\",\n",
    "    \"TTC\":\"F\", \"CTC\":\"L\", \"ATC\":\"I\", \"GTC\":\"V\",\n",
    "    \"TTA\":\"L\", \"CTA\":\"L\", \"ATA\":\"I\", \"GTA\":\"V\",\n",
    "    \"TTG\":\"L\", \"CTG\":\"L\", \"ATG\":\"M\", \"GTG\":\"V\",\n",
    "    \"TCT\":\"S\", \"CCT\":\"P\", \"ACT\":\"T\", \"GCT\":\"A\",\n",
    "    \"TCC\":\"S\", \"CCC\":\"P\", \"ACC\":\"T\", \"GCC\":\"A\",\n",
    "    \"TCA\":\"S\", \"CCA\":\"P\", \"ACA\":\"T\", \"GCA\":\"A\",\n",
    "    \"TCG\":\"S\", \"CCG\":\"P\", \"ACG\":\"T\", \"GCG\":\"A\",\n",
    "    \"TAT\":\"Y\", \"CAT\":\"H\", \"AAT\":\"N\", \"GAT\":\"D\",\n",
    "    \"TAC\":\"Y\", \"CAC\":\"H\", \"AAC\":\"N\", \"GAC\":\"D\",\n",
    "    \"TAA\":\"STOP\", \"CAA\":\"Q\", \"AAA\":\"K\", \"GAA\":\"E\",\n",
    "    \"TAG\":\"STOP\", \"CAG\":\"Q\", \"AAG\":\"K\", \"GAG\":\"E\",\n",
    "    \"TGT\":\"C\", \"CGT\":\"R\", \"AGT\":\"S\", \"GGT\":\"G\",\n",
    "    \"TGC\":\"C\", \"CGC\":\"R\", \"AGC\":\"S\", \"GGC\":\"G\",\n",
    "    \"TGA\":\"STOP\", \"CGA\":\"R\", \"AGA\":\"R\", \"GGA\":\"G\",\n",
    "    \"TGG\":\"W\", \"CGG\":\"R\", \"AGG\":\"R\", \"GGG\":\"G\"\n",
    "}"
   ]
  },
  {
   "cell_type": "code",
   "execution_count": 2,
   "metadata": {},
   "outputs": [],
   "source": [
    "def complementary_dna(dna_string):\n",
    "    replace_bases = {\"A\":\"T\",\"T\":\"A\",\"G\":\"C\",\"C\":\"G\"}\n",
    "    return ''.join([replace_bases[base] for base in reversed(dna_string)])"
   ]
  },
  {
   "cell_type": "code",
   "execution_count": 78,
   "metadata": {},
   "outputs": [],
   "source": [
    "def translate(fragment):\n",
    "    peptide = []\n",
    "    methionine = fragment.find(\"ATG\")\n",
    "    codons = [fragment[methionine:methionine+3] for methionine in range(methionine, len(fragment), 3)]\n",
    "    for codon in codons:\n",
    "        peptide += dna_codon_table.get(codon)\n",
    "    return ''.join(map(str, peptide)) "
   ]
  },
  {
   "cell_type": "code",
   "execution_count": 83,
   "metadata": {},
   "outputs": [],
   "source": [
    "with open(\"rosalind_orf.txt\") as file:\n",
    "    for line in file:\n",
    "        if line.startswith(\">\"):\n",
    "            nextline = str()\n",
    "        else:\n",
    "            nextline += (line.strip(\"\\n\"))\n",
    "    dna_string = nextline"
   ]
  },
  {
   "cell_type": "code",
   "execution_count": null,
   "metadata": {},
   "outputs": [],
   "source": [
    "import re\n",
    "\n",
    "pattern = re.compile(r'(?=(ATG(?:...)*?)(?=TAA|TAG|TGA))')\n",
    "\n",
    "fragments = []\n",
    "for string in re.findall(pattern, dna_string):\n",
    "    fragments.append(string)\n",
    "\n",
    "for string in re.findall(pattern, complementary_dna(dna_string)):\n",
    "    fragments.append(string)"
   ]
  },
  {
   "cell_type": "code",
   "execution_count": null,
   "metadata": {},
   "outputs": [],
   "source": [
    "for string in set(fragments):\n",
    "    print(translate(string))"
   ]
  }
 ],
 "metadata": {
  "kernelspec": {
   "display_name": "Python 3.8.2 64-bit",
   "language": "python",
   "name": "python38264bit00df4fe6d4d64c87a822cc03eec6afc9"
  },
  "language_info": {
   "codemirror_mode": {
    "name": "ipython",
    "version": 3
   },
   "file_extension": ".py",
   "mimetype": "text/x-python",
   "name": "python",
   "nbconvert_exporter": "python",
   "pygments_lexer": "ipython3",
   "version": "3.8.2-final"
  }
 },
 "nbformat": 4,
 "nbformat_minor": 4
}