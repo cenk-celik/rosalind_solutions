{
 "cells": [
  {
   "cell_type": "markdown",
   "metadata": {},
   "source": [
    "# Finding a Protein Motif\n",
    "## Problem\n",
    "\n",
    "To allow for the presence of its varying forms, a protein motif is represented by a shorthand as follows: \\[XY\\] means \"either **X** or **Y**\" and **{X}** means \"any amino acid except **X**.\" For example, the N-glycosylation motif is written as **N{P}\\[ST\\]{P}**.\n",
    "\n",
    "You can see the complete description and features of a particular protein by its access ID \"uniprot_id\" in the UniProt database, by inserting the ID number into [here](http://www.uniprot.org/uniprot/uniprot_id)\n",
    "\n",
    "Alternatively, you can obtain a protein sequence in FASTA format [here](http://www.uniprot.org/uniprot/uniprot_id.fasta)\n",
    "\n",
    "For example, the data for protein **B5ZC00** can be found at  [here](http://www.uniprot.org/uniprot/B5ZC00).\n",
    "\n",
    "> **Given:** At most 15 UniProt Protein Database access IDs.\n",
    "\n",
    "> **Return:** For each protein possessing the N-glycosylation motif, output its given access ID followed by a list of locations in the protein string where the motif can be found."
   ]
  },
  {
   "cell_type": "code",
   "execution_count": null,
   "metadata": {},
   "outputs": [],
   "source": [
    "import sys\n",
    "!{sys.executable} -m pip install requests\n",
    "import requests"
   ]
  },
  {
   "cell_type": "code",
   "execution_count": null,
   "metadata": {},
   "outputs": [],
   "source": [
    "#to access uniprot\n",
    "url = 'https://www.uniprot.org/uniprot/'\n",
    "\n",
    "#data to use\n",
    "with open(\"rosalind_mprt.txt\") as file: #replace filename with yours\n",
    "    seqIDs = file.read().replace(\"\\n\", \" \").split()\n",
    "sequences = {}\n",
    "for proID in seqIDs:\n",
    "    goToURL = url+proID+\".fasta\"\n",
    "    response = requests.get(goToURL)\n",
    "    sequences[proID] = (response.text.split(\"\\n\")) #get the FASTA sequence into a dict\n",
    "    sequences[proID] = \"\".join(sequences[proID][1::]) #skip the first line in FASTA and assing it to protein ID."
   ]
  },
  {
   "cell_type": "code",
   "execution_count": null,
   "metadata": {},
   "outputs": [],
   "source": [
    "def N_gly_motif(ID, sequence):\n",
    "    sequence = list(sequence)\n",
    "    global result\n",
    "    result = []\n",
    "    for i in range(0, len(sequence)-3):\n",
    "        seq = sequence[i:i+4]\n",
    "        if (seq[0] == \"N\") and (seq[2] == \"S\" or seq[2] == \"T\") and (seq[1] and seq[3] != \"P\"):\n",
    "            result.append(i+1)"
   ]
  },
  {
   "cell_type": "code",
   "execution_count": null,
   "metadata": {},
   "outputs": [],
   "source": [
    "for key, value in sequences.items():\n",
    "    N_gly_motif(key, value)\n",
    "    if not result:\n",
    "        continue\n",
    "    else:\n",
    "        print(key)\n",
    "        print(*result)"
   ]
  }
 ],
 "metadata": {
  "kernelspec": {
   "display_name": "Python 3.8.2 64-bit",
   "language": "python",
   "name": "python38264bit00df4fe6d4d64c87a822cc03eec6afc9"
  },
  "language_info": {
   "codemirror_mode": {
    "name": "ipython",
    "version": 3
   },
   "file_extension": ".py",
   "mimetype": "text/x-python",
   "name": "python",
   "nbconvert_exporter": "python",
   "pygments_lexer": "ipython3",
   "version": "3.8.2"
  }
 },
 "nbformat": 4,
 "nbformat_minor": 4
}
