{
 "cells": [
  {
   "cell_type": "markdown",
   "metadata": {},
   "source": [
    "# Finding a Shared Motif\n",
    "## Problem\n",
    "\n",
    "A common substring of a collection of strings is a substring of every member of the collection. We say that a common substring is a longest common substring if there does not exist a longer common substring. For example, **\"CG\"** is a common substring of **\"ACGTACGT\"** and **\"AACCGTATA\"**, but it is not as long as possible; in this case, **\"CGTA\"** is a longest common substring of **\"ACGTACGT\"** and **\"AACCGTATA\"**.\n",
    "\n",
    "Note that the longest common substring is not necessarily unique; for a simple example, **\"AA\"** and **\"CC\"** are both longest common substrings of **\"AACC\"** and **\"CCAA\"**.\n",
    "\n",
    "> **Given:** A collection of **k** (**k ≤ 100**) DNA strings of length at most 1 kbp each in FASTA format.\n",
    "\n",
    "> **Return:** A longest common substring of the collection. (If multiple solutions exist, you may return any single solution.)"
   ]
  },
  {
   "cell_type": "code",
   "execution_count": null,
   "metadata": {},
   "outputs": [],
   "source": [
    "from Bio import SeqIO                      \n",
    "sequences = []                             \n",
    "handle = open('rosalind_lcsm.txt', 'r') #replace filename with yours\n",
    "for record in SeqIO.parse(handle, 'fasta'):\n",
    "    sequence = []                          \n",
    "    seq = ''                               \n",
    "    for nt in record.seq:                  \n",
    "        seq += nt                          \n",
    "    sequences.append(seq)                  \n",
    "handle.close()\n",
    "\n",
    "srt_seq = sorted(sequences, key=len)     \n",
    "short_seq = srt_seq[0]                   \n",
    "comp_seq = srt_seq[1:]                   \n",
    "motif = ''                               \n",
    "for i in range(len(short_seq)):          \n",
    "    for j in range(i, len(short_seq)):   \n",
    "        m = short_seq[i:j + 1]           \n",
    "        found = False                    \n",
    "        for sequ in comp_seq:            \n",
    "            if m in sequ:                \n",
    "                found = True             \n",
    "            else:                        \n",
    "                found = False            \n",
    "                break                    \n",
    "        if found and len(m) > len(motif):\n",
    "            motif = m                    \n",
    "print(motif)"
   ]
  }
 ],
 "metadata": {
  "kernelspec": {
   "display_name": "Python 3.8.2 64-bit",
   "language": "python",
   "name": "python38264bit00df4fe6d4d64c87a822cc03eec6afc9"
  },
  "language_info": {
   "codemirror_mode": {
    "name": "ipython",
    "version": 3
   },
   "file_extension": ".py",
   "mimetype": "text/x-python",
   "name": "python",
   "nbconvert_exporter": "python",
   "pygments_lexer": "ipython3",
   "version": "3.8.2"
  }
 },
 "nbformat": 4,
 "nbformat_minor": 4
}
