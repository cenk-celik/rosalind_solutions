{
 "cells": [
  {
   "cell_type": "markdown",
   "metadata": {},
   "source": [
    "# Independent Alleles\n",
    "## Problem\n",
    "\n",
    "Two events **A** and **B** are independent if **Pr(A and B)** is equal to **Pr(A) × Pr(B)**. In other words, the events do not influence each other, so that we may simply calculate each of the individual probabilities separately and then multiply.\n",
    "\n",
    "More generally, random variables **X** and **Y** are independent if whenever **A** and **B** are respective events for **X** and **Y**, **A** and **B** are independent (i.e., **Pr(A and B) = Pr(A) × Pr(B)**).\n",
    "\n",
    "As an example of how helpful independence can be for calculating probabilities, let **X** and **Y** represent the numbers showing on two six-sided dice. Intuitively, the number of pips showing on one die should not affect the number showing on the other die. If we want to find the probability that **X + Y** is odd, then we don't need to draw a tree diagram and consider all possibilities. We simply first note that for **X + Y** to be odd, either **X** is even and **Y** is odd or **X** is odd and **Y** is even. In terms of probability, **Pr(X + Y is odd) = Pr(X is even and Y is odd) + Pr(X is odd and Y is even)**. Using independence, this becomes **\\[Pr(X is even)×Pr(Y is odd)\\] + \\[Pr(X is odd) × Pr(Y is even)\\]**, or **(12)2 + (12)2 = 12**.\n",
    "\n",
    "> **Given:** Two positive integers **k** **(k ≤ 7)** and *N* **(N ≤ 2^k)**. In this problem, we begin with Tom, who in the 0th generation has genotype **Aa Bb**. Tom has two children in the 1st generation, each of whom has two children, and so on. Each organism always mates with an organism having genotype **Aa Bb**.\n",
    "\n",
    "> **Return:** The probability that at least **N Aa Bb** organisms will belong to the **k-th** generation of Tom's family tree (don't count the **Aa Bb** mates at each level). Assume that Mendel's second law holds for the factors."
   ]
  },
  {
   "cell_type": "code",
   "execution_count": null,
   "metadata": {},
   "outputs": [],
   "source": [
    "import sys\n",
    "!{sys.executable} -m pip install scipy\n",
    "from scipy.special import binom\n",
    "\n",
    "def mendel_2(k, N):\n",
    "    def probability(n, k):\n",
    "        return binom(2 ** k, n) * 0.25 ** n * 0.75 ** (2 ** k - n)\n",
    "    return 1 - sum(probability(n, k) for n in range(N))"
   ]
  },
  {
   "cell_type": "code",
   "execution_count": null,
   "metadata": {},
   "outputs": [],
   "source": [
    "print(mendel_2(k, N)) #replace inputs with data you have downloaded from rosalind"
   ]
  }
 ],
 "metadata": {
  "kernelspec": {
   "display_name": "Python 3.8.2 64-bit",
   "language": "python",
   "name": "python38264bit00df4fe6d4d64c87a822cc03eec6afc9"
  },
  "language_info": {
   "codemirror_mode": {
    "name": "ipython",
    "version": 3
   },
   "file_extension": ".py",
   "mimetype": "text/x-python",
   "name": "python",
   "nbconvert_exporter": "python",
   "pygments_lexer": "ipython3",
   "version": "3.8.2"
  }
 },
 "nbformat": 4,
 "nbformat_minor": 4
}
