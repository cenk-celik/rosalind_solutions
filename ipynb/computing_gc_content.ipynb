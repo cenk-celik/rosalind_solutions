{
 "cells": [
  {
   "cell_type": "markdown",
   "metadata": {},
   "source": [
    "# Computing GC content\n",
    "## Problem\n",
    "\n",
    "The GC-content of a DNA string is given by the percentage of symbols in the string that are 'C' or 'G'. For example, the GC-content of \"AGCTATAG\" is 37.5%. Note that the reverse complement of any DNA string has the same GC-content.\n",
    "\n",
    "DNA strings must be labeled when they are consolidated into a database. A commonly used method of string labeling is called **FASTA** format. In this format, the string is introduced by a line that begins with '>', followed by some labeling information. Subsequent lines contain the string itself; the first line to begin with '>' indicates the label of the next string.\n",
    "\n",
    "In Rosalind's implementation, a string in FASTA format will be labeled by the ID \"Rosalind_xxxx\", where \"xxxx\" denotes a four-digit code between 0000 and 9999.\n",
    "\n",
    "> **Given:** At most 10 DNA strings in FASTA format (of length at most 1 kbp each).\n",
    "\n",
    "> **Return:** The ID of the string having the highest GC-content, followed by the GC-content of that string. Rosalind allows for a default error of 0.001 in all decimal answers unless otherwise stated; please see the note on absolute error below."
   ]
  },
  {
   "cell_type": "code",
   "execution_count": 1,
   "metadata": {},
   "outputs": [],
   "source": [
    "#let's define GC function first\n",
    "def gc_content(fasta):\n",
    "    count = [0, 0]\n",
    "    for nuc in fasta:\n",
    "        if nuc == \"G\":\n",
    "            count[0] += 1\n",
    "        elif nuc == \"C\":\n",
    "            count[1] += 1\n",
    "    return (count[0] + count[1]) / len(fasta)"
   ]
  },
  {
   "cell_type": "code",
   "execution_count": null,
   "metadata": {},
   "outputs": [],
   "source": [
    "#open and read the fasta file\n",
    "with open(\"rosalind_gc.txt\",\"r\") as fasta:\n",
    "    nextline = str()\n",
    "    dict = {}\n",
    "    for line in fasta:\n",
    "        if line.startswith(\">\"):\n",
    "            header = line.strip(\">\").strip(\"\\n\")\n",
    "        else:\n",
    "            nextline = (line.strip(\"\\n\") + nextline)\n",
    "        dict[header] = nextline"
   ]
  },
  {
   "cell_type": "code",
   "execution_count": null,
   "metadata": {},
   "outputs": [],
   "source": [
    "#run the code\n",
    "for key, value in dict.items():\n",
    "    print(key + \"\\n\" + str(gc_content(value) * 100))"
   ]
  }
 ],
 "metadata": {
  "kernelspec": {
   "display_name": "Python 3.8.2 64-bit",
   "language": "python",
   "name": "python38264bit00df4fe6d4d64c87a822cc03eec6afc9"
  },
  "language_info": {
   "codemirror_mode": {
    "name": "ipython",
    "version": 3
   },
   "file_extension": ".py",
   "mimetype": "text/x-python",
   "name": "python",
   "nbconvert_exporter": "python",
   "pygments_lexer": "ipython3",
   "version": "3.8.2"
  }
 },
 "nbformat": 4,
 "nbformat_minor": 4
}
