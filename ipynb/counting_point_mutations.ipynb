{
 "cells": [
  {
   "cell_type": "markdown",
   "metadata": {},
   "source": [
    "# Counting Point Mutations\n",
    "## Problem\n",
    "\n",
    "Given two strings **s** and **t** of equal length, the Hamming distance between **s** and **t**, denoted dH(s,t), is the number of corresponding symbols that differ in **s** and **t**.\n",
    "\n",
    "> **Given:** Two DNA strings **s** and **t** of equal length (not exceeding 1 kbp).\n",
    "\n",
    "> **Return:** The Hamming distance dH(s,t)."
   ]
  },
  {
   "cell_type": "code",
   "execution_count": 1,
   "metadata": {},
   "outputs": [],
   "source": [
    "#the function to find out point mutations\n",
    "def hamming_distance(seq1, seq2):\n",
    "    \"\"\"Calculate the Hamming difference between 'seq1' and 'seq2'.\"\"\"\n",
    "    return sum(0 if a == b else 1 for (a, b) in zip(seq1, seq2))"
   ]
  },
  {
   "cell_type": "code",
   "execution_count": null,
   "metadata": {},
   "outputs": [],
   "source": [
    "#open and read the file\n",
    "with open(\"rosalind_hamm.txt\",\"r\") as fasta: #replace filename your filename\n",
    "    sequence = str()\n",
    "    for line in fasta:\n",
    "        sequence = sequence + line\n",
    "    list = sequence.split(\"\\n\")\n",
    "\n",
    "sequence_1 = list[0]\n",
    "sequence_2 = list[1]"
   ]
  },
  {
   "cell_type": "code",
   "execution_count": null,
   "metadata": {},
   "outputs": [],
   "source": [
    "hamming_distance(sequence_1, sequence_2)"
   ]
  }
 ],
 "metadata": {
  "kernelspec": {
   "display_name": "Python 3.8.2 64-bit",
   "language": "python",
   "name": "python38264bit00df4fe6d4d64c87a822cc03eec6afc9"
  },
  "language_info": {
   "codemirror_mode": {
    "name": "ipython",
    "version": 3
   },
   "file_extension": ".py",
   "mimetype": "text/x-python",
   "name": "python",
   "nbconvert_exporter": "python",
   "pygments_lexer": "ipython3",
   "version": "3.8.2"
  }
 },
 "nbformat": 4,
 "nbformat_minor": 4
}
