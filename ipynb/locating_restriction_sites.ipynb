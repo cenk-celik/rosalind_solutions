{
 "cells": [
  {
   "cell_type": "markdown",
   "metadata": {
    "collapsed": true,
    "pycharm": {
     "name": "#%% md\n"
    }
   },
   "source": [
    "# Locating Restriction Sites\n",
    "\n",
    "## The Billion Year War\n",
    "\n",
    "### Problem\n",
    "A DNA string is a reverse palindrome if it is equal to its reverse complement. For instance, GCATGC is a reverse palindrome because its reverse complement is GCATGC.\n",
    "\n",
    "> **Given:** A DNA string of length at most 1 kbp in FASTA format.\n",
    "\n",
    "> **Return:** The position and length of every reverse palindrome in the string having length between 4 and 12. You may return these pairs in any order."
   ]
  },
  {
   "cell_type": "code",
   "execution_count": null,
   "metadata": {
    "pycharm": {
     "name": "#%%\n"
    }
   },
   "outputs": [],
   "source": [
    "with open(\"rosalind_revp.txt\") as f:\n",
    "    for line in f:\n",
    "        if line.startswith(\">\"):\n",
    "            dna_str = str()\n",
    "        else:\n",
    "            dna_str += (line.strip(\"\\n\"))"
   ]
  },
  {
   "cell_type": "code",
   "execution_count": null,
   "metadata": {
    "pycharm": {
     "name": "#%%\n"
    }
   },
   "outputs": [],
   "source": [
    "def complementary(dna_sequence):\n",
    "    replace_bases = {\"A\":\"T\",\"T\":\"A\",\"G\":\"C\",\"C\":\"G\"}\n",
    "    return ''.join([replace_bases[base] for base in reversed(dna_sequence)])"
   ]
  },
  {
   "cell_type": "code",
   "execution_count": null,
   "metadata": {
    "pycharm": {
     "name": "#%%\n"
    }
   },
   "outputs": [],
   "source": [
    "def LocatingRestrictionSites(dna):\n",
    "    position_length = []\n",
    "    for i in range(4, 13):\n",
    "        for j in range(0, len(dna) - i + 1):\n",
    "            if complementary(dna[j:j+i]) == dna[j:j+i]:\n",
    "                position_length.append(str(j+1) + ' ' + str(i))\n",
    "    return position_length"
   ]
  },
  {
   "cell_type": "code",
   "execution_count": null,
   "metadata": {
    "pycharm": {
     "name": "#%%\n"
    }
   },
   "outputs": [],
   "source": [
    "for fragment in LocatingRestrictionSites(dna_str):\n",
    "    print(fragment)"
   ]
  }
 ],
 "metadata": {
  "kernelspec": {
   "display_name": "Python 3",
   "language": "python",
   "name": "python3"
  },
  "language_info": {
   "codemirror_mode": {
    "name": "ipython",
    "version": 3
   },
   "file_extension": ".py",
   "mimetype": "text/x-python",
   "name": "python",
   "nbconvert_exporter": "python",
   "pygments_lexer": "ipython3",
   "version": "3.7.6"
  }
 },
 "nbformat": 4,
 "nbformat_minor": 1
}