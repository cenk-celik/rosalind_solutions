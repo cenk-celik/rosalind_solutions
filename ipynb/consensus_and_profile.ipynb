{
 "cells": [
  {
   "cell_type": "markdown",
   "metadata": {},
   "source": [
    "# Consensus and Profile\n",
    "## Problem\n",
    "\n",
    "A matrix is a rectangular table of values divided into rows and columns. An **m × n** matrix has **m** rows and **n** columns. Given a matrix **A**, we write A_i,j to indicate the value found at the intersection of row **i** and column **j**.\n",
    "\n",
    "Say that we have a collection of DNA strings, all having the same length **n**. Their profile matrix is a **4 × n** matrix **P** in which **P_1,j** represents the number of times that 'A' occurs in the **j-th** position of one of the strings, **P_2,j** represents the number of times that 'C' occurs in the **j-th** position, and so on.\n",
    "\n",
    "A consensus string **c** is a string of length **n** formed from our collection by taking the most common symbol at each position; the **j-th** symbol of **c** therefore corresponds to the symbol having the maximum value in the **j-th** column of the profile matrix. Of course, there may be more than one most common symbol, leading to multiple possible consensus strings.\n",
    "\n",
    "----------------------\n",
    "|    DNA strings    |\n",
    "---------------------\n",
    "|\tA T C C A G C T |\n",
    "|\tG G G C A A C T |\n",
    "|\tA T G G A T C T |\n",
    "|   A A G C A A C C |\n",
    "|\tT T G G A A C T |\n",
    "|\tA T G C C A T T |\n",
    "|\tA T G G C A C T |\n",
    " \n",
    "----\n",
    "| Profile |\n",
    "----------------\n",
    "| **A**   5 1 0 0 5 5 0 0 |\n",
    "| **C**   0 0 1 4 2 0 6 1 |\n",
    "| **G**   1 1 6 3 0 1 0 0 |\n",
    "| **T**   1 5 0 0 0 1 1 6 |\n",
    "\n",
    "**Consensus**\tA T G C A A C T\n",
    "\n",
    "> **Given:** A collection of at most 10 DNA strings of equal length (at most 1 kbp) in FASTA format.\n",
    "\n",
    "> **Return:** A consensus string and profile matrix for the collection. (If several possible consensus strings exist, then you may return any one of them.)"
   ]
  },
  {
   "cell_type": "code",
   "execution_count": null,
   "metadata": {},
   "outputs": [],
   "source": [
    "def read_fasta(fp):\n",
    "    name, seq = None, []\n",
    "    for line in fp:\n",
    "        line = line.rstrip()\n",
    "        if line.startswith(\">\"):\n",
    "            if name: yield (name, ''.join(seq))\n",
    "            name, seq = line, []\n",
    "        else:\n",
    "            seq.append(line)\n",
    "    if name: yield (name, ''.join(seq))"
   ]
  },
  {
   "cell_type": "code",
   "execution_count": null,
   "metadata": {},
   "outputs": [],
   "source": [
    "data_list = []\n",
    "file = open('main.out','w')\n",
    "with open('rosalind_cons.txt') as fp: #replace filename with yours\n",
    "    for name, seq in read_fasta(fp):\n",
    "        data_list.append(seq)\n",
    "length = len(data_list)\n",
    "# length of string\n",
    "L = len(seq)\n",
    "\n",
    "P = [[0 for x in xrange(L)] for y in xrange(4)] \n",
    "\n",
    "Q = ['A','C','G','T']\n",
    "\n",
    "for x in range(L):\n",
    "    for y in range(4):\n",
    "        for z in range(length):\n",
    "            P[y][x] = P[y][x] + data_list[z][x].count(Q[y])\n",
    "\n",
    "domi = \"\"\n",
    "for x in range(L):\n",
    "    MAX = 0\n",
    "    for y in range(4):  \n",
    "        if P[y][x]>=P[MAX][x]:\n",
    "            MAX = y       \n",
    "            \n",
    "    if MAX == 0:\n",
    "        domi = domi+'A'\n",
    "    elif MAX ==1:\n",
    "        domi = domi+'C'\n",
    "    elif MAX ==2:\n",
    "        domi = domi+'G'\n",
    "    elif MAX ==3:\n",
    "        domi = domi+'T'"
   ]
  },
  {
   "cell_type": "code",
   "execution_count": null,
   "metadata": {},
   "outputs": [],
   "source": [
    "file.write('%s\\n%s\\n%s\\n%s\\n%s' %(\n",
    "    domi,'A: '+str(P[0]).strip('[]').replace(',',''),'C: '\n",
    "    +str(P[1]).strip('[]').replace(',',''),'G: '\n",
    "    +str(P[2]).strip('[]').replace(',',''),'T: '\n",
    "    +str(P[3]).strip('[]').replace(',','')))"
   ]
  }
 ],
 "metadata": {
  "kernelspec": {
   "display_name": "Python 3.8.2 64-bit",
   "language": "python",
   "name": "python38264bit00df4fe6d4d64c87a822cc03eec6afc9"
  },
  "language_info": {
   "codemirror_mode": {
    "name": "ipython",
    "version": 3
   },
   "file_extension": ".py",
   "mimetype": "text/x-python",
   "name": "python",
   "nbconvert_exporter": "python",
   "pygments_lexer": "ipython3",
   "version": "3.8.2"
  }
 },
 "nbformat": 4,
 "nbformat_minor": 4
}
