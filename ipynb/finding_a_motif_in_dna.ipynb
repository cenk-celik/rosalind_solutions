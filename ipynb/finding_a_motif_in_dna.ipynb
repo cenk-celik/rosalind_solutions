{
 "cells": [
  {
   "cell_type": "markdown",
   "metadata": {},
   "source": [
    "# Finding A Motif in DNA\n",
    "## Problem\n",
    "\n",
    "Given two strings **s** and **t**, **t** is a substring of **s** if **t** is contained as a contiguous collection of symbols in **s** (as a result, **t** must be no longer than **s**).\n",
    "\n",
    "The position of a symbol in a string is the total number of symbols found to its left, including itself (e.g., the positions of all occurrences of 'U' in **\"AUGCUUCAGAAAGGUCUUACG\"** are 2, 5, 6, 15, 17, and 18). The symbol at position **i** of **s** is denoted by s\\[i\\].\n",
    "\n",
    "A substring of **s** can be represented as **s\\[j:k\\]**, where **j** and **k** represent the starting and ending positions of the substring in **s**; for example, if **s = \"AUGCUUCAGAAAGGUCUUACG\"**, then **s\\[2:5\\] = \"UGCU\"**.\n",
    "\n",
    "The location of a substring **s\\[j:k\\]** is its beginning position **j**; note that **t** will have multiple locations in **s** if it occurs more than once as a substring of **s**.\n",
    "\n",
    "> **Given:** Two DNA strings **s** and **t** (each of length at most 1 kbp).\n",
    "\n",
    "> **Return:** All locations of **t** as a substring of **s**."
   ]
  },
  {
   "cell_type": "code",
   "execution_count": null,
   "metadata": {},
   "outputs": [],
   "source": [
    "def substring_loc(s, t):\n",
    "    global result\n",
    "    result = []\n",
    "    t_len = len(t)\n",
    "    s_len = len(s)\n",
    "    for i in range(0, s_len - t_len + 1):\n",
    "        if s[i:i+t_len] == t:\n",
    "            result.append(i+1)        \n",
    "    return result"
   ]
  },
  {
   "cell_type": "code",
   "execution_count": null,
   "metadata": {},
   "outputs": [],
   "source": [
    "with open(\"rosalind_subs.txt\",\"r\") as motif: #replace filename with your file\n",
    "    motiff = str()\n",
    "    for line in motif:\n",
    "        motiff = motiff + line\n",
    "    list = motiff.split(\"\\n\")\n",
    "\n",
    "motiff_1 = list[0]\n",
    "motiff_2 = list[1]\n",
    "substring_loc(motiff_1,motiff_2)\n",
    "\n",
    "for i in range(0, len(result)):\n",
    "    print(result[i], end=\" \")"
   ]
  }
 ],
 "metadata": {
  "kernelspec": {
   "display_name": "Python 3.8.2 64-bit",
   "language": "python",
   "name": "python38264bit00df4fe6d4d64c87a822cc03eec6afc9"
  },
  "language_info": {
   "codemirror_mode": {
    "name": "ipython",
    "version": 3
   },
   "file_extension": ".py",
   "mimetype": "text/x-python",
   "name": "python",
   "nbconvert_exporter": "python",
   "pygments_lexer": "ipython3",
   "version": "3.8.2"
  }
 },
 "nbformat": 4,
 "nbformat_minor": 4
}
