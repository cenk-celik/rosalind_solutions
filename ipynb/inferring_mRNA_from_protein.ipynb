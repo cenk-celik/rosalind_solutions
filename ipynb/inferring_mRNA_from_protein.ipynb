{
 "cells": [
  {
   "cell_type": "markdown",
   "metadata": {},
   "source": [
    "# Inferring mRNA from Protein\n",
    "## Problem\n",
    "\n",
    "For positive integers **a** and **n**, **a modulo n** (written *a mod n* in shorthand) is the remainder when a is divided by **n**. For example, **29 mod 11 = 7** because **29 = 11 × 2 + 7**.\n",
    "\n",
    "Modular arithmetic is the study of addition, subtraction, multiplication, and division with respect to the modulo operation. We say that **a** and **b** are congruent modulo **n** if **a mod n = b mod n**; in this case, we use the notation **a ≡ b mod n**.\n",
    "\n",
    "Two useful facts in modular arithmetic are that if **a ≡ b mod n** and **c ≡ d mod n**, then **a + c ≡ b + d mod n** and **a × c ≡ b × d mod n**. To check your understanding of these rules, you may wish to verify these relationships for a=29, b=73, c=10, d=32, and n=11.\n",
    "\n",
    "As you will see in this exercise, some Rosalind problems will ask for a (very large) integer solution modulo a smaller number to avoid the computational pitfalls that arise with storing such large numbers.\n",
    "\n",
    "> **Given:** A protein string of length at most 1000 aa.\n",
    "\n",
    "> **Return:** The total number of different RNA strings from which the protein could have been translated, modulo 1,000,000. (Don't neglect the importance of the ***stop codon*** in protein translation.)"
   ]
  },
  {
   "cell_type": "code",
   "execution_count": null,
   "metadata": {},
   "outputs": [],
   "source": [
    "codon_map = {\n",
    "    'UUU': 'F',     'CUU': 'L',     'AUU': 'I',     'GUU': 'V',\n",
    "    'UUC': 'F',     'CUC': 'L',     'AUC': 'I',     'GUC': 'V',\n",
    "    'UUA': 'L',     'CUA': 'L',     'AUA': 'I',     'GUA': 'V',\n",
    "    'UUG': 'L',     'CUG': 'L',     'AUG': 'M',     'GUG': 'V',\n",
    "    'UCU': 'S',     'CCU': 'P',     'ACU': 'T',     'GCU': 'A',\n",
    "    'UCC': 'S',     'CCC': 'P',     'ACC': 'T',     'GCC': 'A',\n",
    "    'UCA': 'S',     'CCA': 'P',     'ACA': 'T',     'GCA': 'A',\n",
    "    'UCG': 'S',     'CCG': 'P',     'ACG': 'T',     'GCG': 'A',\n",
    "    'UAU': 'Y',     'CAU': 'H',     'AAU': 'N',     'GAU': 'D',\n",
    "    'UAC': 'Y',     'CAC': 'H',     'AAC': 'N',     'GAC': 'D',\n",
    "    'UAA': 'Stop',  'CAA': 'Q',     'AAA': 'K',     'GAA': 'E',\n",
    "    'UAG': 'Stop',  'CAG': 'Q',     'AAG': 'K',     'GAG': 'E',\n",
    "    'UGU': 'C',     'CGU': 'R',     'AGU': 'S',     'GGU': 'G',\n",
    "    'UGC': 'C',     'CGC': 'R',     'AGC': 'S',     'GGC': 'G',\n",
    "    'UGA': 'Stop',  'CGA': 'R',     'AGA': 'R',     'GGA': 'G',\n",
    "    'UGG': 'W',     'CGG': 'R',     'AGG': 'R',     'GGG': 'G' \n",
    "}\n",
    "\n",
    "def codon_frequency(): #define a function to find out how many possible codons can be observed from protein letter\n",
    "    frequency = {}\n",
    "    for k, v in codon_map.items():\n",
    "        if v not in frequency:\n",
    "            frequency[v] = 0\n",
    "        frequency[v] += 1\n",
    "    return (frequency)\n",
    "\n",
    "def possible_sequences(sequence):\n",
    "    f = codon_frequency()\n",
    "    n = f['Stop']\n",
    "    for seq in sequence:\n",
    "        n *= f[seq]\n",
    "    return (n % 1000000)                              "
   ]
  },
  {
   "cell_type": "code",
   "execution_count": null,
   "metadata": {},
   "outputs": [],
   "source": [
    "with open('rosalind_mrna.txt') as file: #replace filename with yours\n",
    "    protein_seq = file.read().strip()"
   ]
  },
  {
   "cell_type": "code",
   "execution_count": null,
   "metadata": {},
   "outputs": [],
   "source": [
    "print(possible_sequences(protein_seq))"
   ]
  }
 ],
 "metadata": {
  "kernelspec": {
   "display_name": "Python 3.8.2 64-bit",
   "language": "python",
   "name": "python38264bit00df4fe6d4d64c87a822cc03eec6afc9"
  },
  "language_info": {
   "codemirror_mode": {
    "name": "ipython",
    "version": 3
   },
   "file_extension": ".py",
   "mimetype": "text/x-python",
   "name": "python",
   "nbconvert_exporter": "python",
   "pygments_lexer": "ipython3",
   "version": "3.8.2"
  }
 },
 "nbformat": 4,
 "nbformat_minor": 4
}
