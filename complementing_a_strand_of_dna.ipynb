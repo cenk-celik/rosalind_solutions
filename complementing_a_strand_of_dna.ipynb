{
 "cells": [
  {
   "cell_type": "markdown",
   "metadata": {},
   "source": [
    "# Complementing a Strand of DNA\n",
    "## Problem\n",
    "\n",
    "In DNA strings, symbols 'A' and 'T' are complements of each other, as are 'C' and 'G'.\n",
    "\n",
    "The reverse complement of a DNA string **s** is the string sc formed by reversing the symbols of **s**, then taking the complement of each symbol (e.g., the reverse complement of \"GTCA\" is \"TGAC\").\n",
    "\n",
    "> **Given:** A DNA string **s** of length at most 1000 bp.\n",
    "\n",
    "> **Return:** The reverse complement **sc** of **s**."
   ]
  },
  {
   "cell_type": "code",
   "execution_count": 3,
   "metadata": {},
   "outputs": [
    {
     "name": "stdout",
     "output_type": "stream",
     "text": [
      "AGGCCAATCTCAAGATTAGCCACACGTTGTACCATATATTTTGAGCCGGGTCTCATCACAAAGTTAGTAGAAACATGTGGGCCGAAAGATATTGGGACGTCGGCGGGCGATTAGCCAGCGAATGTGGGGGGTGCTTTGCTCCAACTAAGGGCAGCACTTGTCGTCCGCTGCGCAATTTTAGATAATGGACACTTCCCAAGAGCCACAGGGGCATTAGATTGTGTTGGGCGATCCTTGCAGCGGAGAACCAATTAACGTTATGGGGCACAACCAAGGTGGTTGAGACGATATCCCTGATGCCTAGTCTTCCGGGGTACTGCCGAACTATATCATACTGAGGCACGGGCTCCGTGAGTGTATAGCAGTTCGTTGGTTACTCTATAAGACCATATACAATGCTAGTTTTTGGCCTCGATAAGCATCACTTGGCCTTCTATGCGTGCGCCCACGAATGTAATTTAACCATAGCTATGGTTAAATTACATTCGTGGGCGCACGCATAGTTAATAAGTCTAGTAGGGGTATGTTCCATACACTAGAGGCCGACCGGATCCGGGTTATTAGCGCTACCCTACACCTTACGCCGTGAGCGATATCCATCAACGAGTTCGAGTAACTCACTTCAAGCATTGCTTGACATAAAAAGCCGTAGGGAAACAGGGACATAATAAGGACCCATCCGATAGGGCGAACAACAGCCGGAGCCAGCCGCTGTTGGGAGCATTTGTCACTCCCGCATAGACATTCGTCAAGGCTGCGAGCTAGGCGCTGCTTACAGAGCTAGGTGGTTATTTACGAACAAACGTACCCGAGGCTATATGCGTGGTTAGTCCGATTCTCGGTATGACTCCGCTGAGAAGTTCACACCGTCAACTTGGCATGCTTGGTCTAAGTAGCAAAATAGGATCAGGTGGTGGCAACCTTAGGTCCCGCGCC"
     ]
    }
   ],
   "source": [
    "for N in open(\"/Users/cenkcelik/Downloads/rosalind_orf.txt\",\"r\").read()[::-1]:\n",
    "    for pair in [\"GC\",\"AT\"]:\n",
    "        if N in pair: print(\"\".join(set(N)^set(pair)),end=\"\")"
   ]
  },
  {
   "cell_type": "code",
   "execution_count": null,
   "metadata": {},
   "outputs": [],
   "source": []
  }
 ],
 "metadata": {
  "kernelspec": {
   "display_name": "Python 3.8.2 64-bit",
   "language": "python",
   "name": "python38264bit00df4fe6d4d64c87a822cc03eec6afc9"
  },
  "language_info": {
   "codemirror_mode": {
    "name": "ipython",
    "version": 3
   },
   "file_extension": ".py",
   "mimetype": "text/x-python",
   "name": "python",
   "nbconvert_exporter": "python",
   "pygments_lexer": "ipython3",
   "version": "3.8.2"
  }
 },
 "nbformat": 4,
 "nbformat_minor": 4
}
