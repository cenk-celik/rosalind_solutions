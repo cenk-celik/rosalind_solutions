{
 "cells": [
  {
   "cell_type": "markdown",
   "metadata": {},
   "source": [
    "# Calculating Expected Offspring\n",
    "## Problem\n",
    "\n",
    "For a random variable **X** taking integer values between 1 and **n**, the expected value of **X** is **E(X) = ∑n_k = 1_k × Pr(X = k)**. The expected value offers us a way of taking the long-term average of a random variable over a large number of trials.\n",
    "\n",
    "As a motivating example, let **X** be the number on a six-sided die. Over a large number of rolls, we should expect to obtain an average of 3.5 on the die (even though it's not possible to roll a 3.5). The formula for expected value confirms that **E(X) = ∑6_k = 1_k × Pr(X = k) = 3.5**.\n",
    "\n",
    "More generally, a random variable for which every one of a number of equally spaced outcomes has the same probability is called a uniform random variable (in the die example, this \"equal spacing\" is equal to 1). We can generalize our die example to find that if **X** is a uniform random variable with minimum possible value a and maximum possible value **b**, then **E(X) = (a + b)/2**. You may also wish to verify that for the dice example, if **Y** is the random variable associated with the outcome of a second die roll, then **E(X + Y) = 7**.\n",
    "\n",
    "> **Given:** Six nonnegative integers, each of which does not exceed 20,000. The integers correspond to the number of couples in a population possessing each genotype pairing for a given factor. In order, the six given integers represent the number of couples having the following genotypes:\n",
    "\n",
    "    AA-AA\n",
    "    AA-Aa\n",
    "    AA-aa\n",
    "    Aa-Aa\n",
    "    Aa-aa\n",
    "    aa-aa\n",
    "\n",
    "> **Return:** The expected number of offspring displaying the dominant phenotype in the next generation, under the assumption that every couple has exactly two offspring."
   ]
  },
  {
   "cell_type": "code",
   "execution_count": null,
   "metadata": {},
   "outputs": [],
   "source": [
    "import six\n",
    "\n",
    "def iev(a,b,c,d,e,f):\n",
    "    return ((4 * a + 4 * b + 4 * c + 3 * d + 2 * e) / 2.0)\n",
    "\n",
    "def main():\n",
    "    line = six.moves.input()\n",
    "    tokens = line.split(' ')\n",
    "    a = int(tokens[0])\n",
    "    b = int(tokens[1])\n",
    "    c = int(tokens[2])\n",
    "    d = int(tokens[3])\n",
    "    e = int(tokens[4])\n",
    "    f = int(tokens[5])\n",
    "    answer = iev(a,b,c,d,e,f)\n",
    "    print(answer)\n",
    "\n",
    "iev(17849, 18970, 19661, 17001, 18174, 19701) #input"
   ]
  }
 ],
 "metadata": {
  "kernelspec": {
   "display_name": "Python 3.8.2 64-bit",
   "language": "python",
   "name": "python38264bit00df4fe6d4d64c87a822cc03eec6afc9"
  },
  "language_info": {
   "codemirror_mode": {
    "name": "ipython",
    "version": 3
   },
   "file_extension": ".py",
   "mimetype": "text/x-python",
   "name": "python",
   "nbconvert_exporter": "python",
   "pygments_lexer": "ipython3",
   "version": "3.8.2"
  }
 },
 "nbformat": 4,
 "nbformat_minor": 4
}
